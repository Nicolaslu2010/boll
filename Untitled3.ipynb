{
 "cells": [
  {
   "cell_type": "code",
   "execution_count": 13,
   "id": "951e83f5-2264-4f5c-becf-2e5252dba940",
   "metadata": {},
   "outputs": [],
   "source": [
    "class Animal():\n",
    "    def __init__(self):\n",
    "        print('Animal criando')\n",
    "\n",
    "    def  oQueSou(self):\n",
    "        print('animal')\n",
    "\n",
    "    def come(self):\n",
    "        print('comendo')\n",
    "\n",
    "\n",
    "class Cachorro(Animal):\n",
    "    def __init__(self):\n",
    "        Animal.__init__(self)\n",
    "        print('cachorro criado')\n",
    "\n",
    "\n",
    "    def oQueSou(self):\n",
    "        print('cachorro')\n",
    "\n",
    "    def late(self):\n",
    "        print ('auau!') "
   ]
  },
  {
   "cell_type": "code",
   "execution_count": 14,
   "id": "e0619699-db87-4444-8678-6603013249f8",
   "metadata": {},
   "outputs": [
    {
     "name": "stdout",
     "output_type": "stream",
     "text": [
      "Animal criando\n",
      "cachorro criado\n"
     ]
    }
   ],
   "source": [
    "c = Cachorro()"
   ]
  },
  {
   "cell_type": "code",
   "execution_count": 15,
   "id": "2d945cf1-fcd7-42f6-94f4-d8107b2f0f70",
   "metadata": {},
   "outputs": [
    {
     "name": "stdout",
     "output_type": "stream",
     "text": [
      "cachorro\n"
     ]
    }
   ],
   "source": [
    "c.oQueSou()\n"
   ]
  },
  {
   "cell_type": "code",
   "execution_count": 16,
   "id": "4c51a075-4d81-46e7-8b22-e52a29c36e4d",
   "metadata": {},
   "outputs": [
    {
     "name": "stdout",
     "output_type": "stream",
     "text": [
      "comendo\n"
     ]
    }
   ],
   "source": [
    "c.come()"
   ]
  },
  {
   "cell_type": "code",
   "execution_count": 17,
   "id": "4f5fefda-6dc8-4496-ab3e-9a08a7e07316",
   "metadata": {},
   "outputs": [
    {
     "name": "stdout",
     "output_type": "stream",
     "text": [
      "auau!\n"
     ]
    }
   ],
   "source": [
    "c.late()"
   ]
  },
  {
   "cell_type": "code",
   "execution_count": 28,
   "id": "e9e05c2a-bf34-496e-a969-18ea3896b070",
   "metadata": {},
   "outputs": [],
   "source": [
    "class Animal_selvagem():\n",
    "    \n",
    "    def mover (self):\n",
    "        print('estou correndo')\n",
    "\n",
    "    def come(self):\n",
    "        print('comendo')\n",
    "\n",
    "class Animal_domestico():\n",
    "    def mover():\n",
    "        print ('estou andando')\n",
    "\n",
    "    def getDono(self):\n",
    "        return self.dono \n",
    "\n",
    "\n",
    "class cachorro(Animal_selvagem,Animal_domestico):\n",
    "    def __init__(self,dono):\n",
    "      self.dono = dono \n",
    "\n",
    "    def late(self):\n",
    "        print('auaua!')"
   ]
  },
  {
   "cell_type": "code",
   "execution_count": 32,
   "id": "7cbfc603-413f-47e7-ad4c-bb6455c53dea",
   "metadata": {},
   "outputs": [],
   "source": [
    "c = cachorro('Luiz')"
   ]
  },
  {
   "cell_type": "code",
   "execution_count": 33,
   "id": "33303c88-6375-439b-b46d-97c589f6f1c4",
   "metadata": {},
   "outputs": [
    {
     "name": "stdout",
     "output_type": "stream",
     "text": [
      "Luiz\n",
      "comendo\n",
      "auaua!\n",
      "estou correndo\n"
     ]
    }
   ],
   "source": [
    "print(c.getDono())\n",
    "c.come()\n",
    "c.late()\n",
    "c.mover()"
   ]
  },
  {
   "cell_type": "code",
   "execution_count": 35,
   "id": "43dea2dc-0679-4827-bac7-91569d60e607",
   "metadata": {},
   "outputs": [],
   "source": [
    "class Classe(): #Aqui criamos o molde de nossa classe (class)\n",
    "\n",
    "    jogo = 'defensores da grande mãe'\n",
    "\n",
    "    def __init__(self,nome,vida,arma,magia): #aqui criamos o metodo de inicialização __init__\n",
    "        self.nome =nome  #definimos os atributos deste metodos \n",
    "        self.vida = vida\n",
    "        self.arma = arma\n",
    "\n",
    "        def getjogo(): #o metodo set define qual valor sera guardado dentro da variavel\n",
    "            return self.jogo\n",
    "\n",
    "        def setjogo(i):\n",
    "            self.jogo= i"
   ]
  },
  {
   "cell_type": "code",
   "execution_count": 43,
   "id": "5f6b57ec-c911-4132-8ed2-6fc5ec95c02b",
   "metadata": {},
   "outputs": [
    {
     "name": "stdout",
     "output_type": "stream",
     "text": [
      "Nicolas Luiz Teixeira\n",
      "Melissa Menezes Vitoria\n"
     ]
    }
   ],
   "source": [
    "def sobrenomeNaOrdem(nome,sobrenome1,sobrenome2):\n",
    "    if(len(sobrenome2)>len(sobrenome1)):\n",
    "        return nome+' '+sobrenome1+' '+sobrenome2\n",
    "    else: \n",
    "        return nome+' '+sobrenome2+' '+sobrenome1\n",
    "print (sobrenomeNaOrdem('Nicolas','Luiz','Teixeira'))\n",
    "print (sobrenomeNaOrdem('Melissa','Vitoria','Menezes'))"
   ]
  },
  {
   "cell_type": "code",
   "execution_count": 20,
   "id": "84f970cc-e8d5-438e-864c-1de498be2c53",
   "metadata": {},
   "outputs": [
    {
     "name": "stderr",
     "output_type": "stream",
     "text": [
      "......\n",
      "----------------------------------------------------------------------\n",
      "Ran 6 tests in 0.009s\n",
      "\n",
      "OK\n"
     ]
    },
    {
     "data": {
      "text/plain": [
       "<unittest.main.TestProgram at 0x12ae2e41b50>"
      ]
     },
     "execution_count": 20,
     "metadata": {},
     "output_type": "execute_result"
    }
   ],
   "source": [
    "import unittest\n",
    "from nome import sobrenomeNaOrdem\n",
    "class Nometest(unittest.TestCase):\n",
    "    def test_sobrenomeNaOrdem(self):\n",
    "        nomeCompleto = sobrenomeNaOrdem('Nicolas','Luiz','Teixeira')\n",
    "        self.assertEqual(nomeCompleto,'Nicolas Luiz Teixeira')\n",
    "    def test_sobrenomeNaOrdem2(self):\n",
    "        nomeCompleto= sobrenomeNaOrdem('Nicolas','Luiz','Teixeira')\n",
    "        self.assertEqual(nomeCompleto,'Nicolas Luiz Teixeira')\n",
    "    def test_sobrenomeNaOrdem_not_equal(self):\n",
    "        nomeCompleto=sobrenomeNaOrdem('Daniella','Maria','Teixeira')\n",
    "        self.assertTrue(nomeCompleto.startswith('Daniella'))\n",
    "\n",
    "    def test_sobrenomeNaOrdem_true(self):\n",
    "            nomeCompleto = sobrenomeNaOrdem('Daniella','Maria','Teixeira')\n",
    "            self.assertTrue(nomeCompleto.startswith('Daniella'))\n",
    "\n",
    "    def test_sobrenomeNaOrdem_in(self):\n",
    "            nomeCompleto = sobrenomeNaOrdem('Mirella','Teixeira','Menezes')\n",
    "            self.assertIn('Teixeira',nomeCompleto)\n",
    "                 \n",
    "    def test_sobrenomeNaOrdem_not_in(self):\n",
    "            nomeCompleto = sobrenomeNaOrdem('Paulo','Gilson','silva')\n",
    "            self.assertNotIn('Carvalho', nomeCompleto)\n",
    "\n",
    "unittest.main(argv=[''],exit= False)"
   ]
  },
  {
   "cell_type": "code",
   "execution_count": 12,
   "id": "712362e1-3316-4ae1-82bf-980f9fb571e8",
   "metadata": {},
   "outputs": [],
   "source": [
    "class"
   ]
  },
  {
   "cell_type": "code",
   "execution_count": null,
   "id": "cb649bfe-ace9-480f-b9b8-7f567eb4553c",
   "metadata": {},
   "outputs": [],
   "source": []
  }
 ],
 "metadata": {
  "kernelspec": {
   "display_name": "Python 3 (ipykernel)",
   "language": "python",
   "name": "python3"
  },
  "language_info": {
   "codemirror_mode": {
    "name": "ipython",
    "version": 3
   },
   "file_extension": ".py",
   "mimetype": "text/x-python",
   "name": "python",
   "nbconvert_exporter": "python",
   "pygments_lexer": "ipython3",
   "version": "3.11.7"
  }
 },
 "nbformat": 4,
 "nbformat_minor": 5
}
