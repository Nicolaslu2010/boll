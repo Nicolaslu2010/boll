{
 "cells": [
  {
   "cell_type": "code",
   "execution_count": 9,
   "id": "f2c01c6e-b10c-49a9-b2dc-edfeb829f79f",
   "metadata": {},
   "outputs": [
    {
     "name": "stdout",
     "output_type": "stream",
     "text": [
      "A area do quadrado é 36\n"
     ]
    }
   ],
   "source": [
    "def quadrado(lados):\n",
    "    print('A area do quadrado é', lados**2)\n",
    "\n",
    "quadrado(6)"
   ]
  },
  {
   "cell_type": "code",
   "execution_count": 12,
   "id": "4fdcddbe-576a-4866-a121-b6ac6c0d4310",
   "metadata": {},
   "outputs": [
    {
     "name": "stdin",
     "output_type": "stream",
     "text": [
      "valor de base: 15\n",
      "valor da atura: 2\n"
     ]
    },
    {
     "name": "stdout",
     "output_type": "stream",
     "text": [
      "A area do triangulo é 15.0\n"
     ]
    }
   ],
   "source": [
    "def triangulo(base,altura):\n",
    "    print('A area do triangulo é', (base * altura) / 2)\n",
    "base = int(input('valor de base:'))\n",
    "altura = int(input('valor da atura:'))\n",
    "triangulo(base,altura)"
   ]
  },
  {
   "cell_type": "code",
   "execution_count": 21,
   "id": "2a43be33-7965-4e71-af91-bcd76bbb1b92",
   "metadata": {},
   "outputs": [
    {
     "name": "stdin",
     "output_type": "stream",
     "text": [
      "mostre o valor da base_maior: 7\n",
      "mostre o valor da base_menor: 7\n",
      " mostre o valor da altura: 2\n"
     ]
    },
    {
     "name": "stdout",
     "output_type": "stream",
     "text": [
      "o valor do trapezio é 14.0\n"
     ]
    }
   ],
   "source": [
    "def trapezio(base_maior,base_menor,altura):\n",
    "    print ('o valor do trapezio é',((base_maior + base_menor) * altura) / 2)\n",
    "base_maior = int(input('mostre o valor da base_maior:'))\n",
    "base_menor =int(input('mostre o valor da base_menor:'))\n",
    "altura = int(input(' mostre o valor da altura:'))\n",
    "trapezio(base_maior,base_menor,altura)"
   ]
  },
  {
   "cell_type": "code",
   "execution_count": 23,
   "id": "36c7a729-6cd5-4d65-a7c5-66de924fa659",
   "metadata": {},
   "outputs": [
    {
     "name": "stdin",
     "output_type": "stream",
     "text": [
      "o valor da base é: 4\n",
      "o valor da altura é: 4\n"
     ]
    },
    {
     "name": "stdout",
     "output_type": "stream",
     "text": [
      "o valor do retangulo é : 16\n"
     ]
    }
   ],
   "source": [
    "def retangulo(base,altura):\n",
    "    print ('o valor do retangulo é :', (base * altura))\n",
    "base = int(input('o valor da base é:'))\n",
    "altura = int(input('o valor da altura é:'))\n",
    "retangulo(base,altura)\n",
    "           \n",
    "           "
   ]
  },
  {
   "cell_type": "code",
   "execution_count": null,
   "id": "348ce093-903e-4ce4-8c5d-f7bc5d5fe5fc",
   "metadata": {},
   "outputs": [],
   "source": []
  }
 ],
 "metadata": {
  "kernelspec": {
   "display_name": "Python 3 (ipykernel)",
   "language": "python",
   "name": "python3"
  },
  "language_info": {
   "codemirror_mode": {
    "name": "ipython",
    "version": 3
   },
   "file_extension": ".py",
   "mimetype": "text/x-python",
   "name": "python",
   "nbconvert_exporter": "python",
   "pygments_lexer": "ipython3",
   "version": "3.11.7"
  }
 },
 "nbformat": 4,
 "nbformat_minor": 5
}
