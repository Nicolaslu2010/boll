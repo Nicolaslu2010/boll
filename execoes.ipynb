{
 "cells": [
  {
   "cell_type": "code",
   "execution_count": 16,
   "id": "c3246a36-fa38-403f-ad6a-35396f8a0a1f",
   "metadata": {},
   "outputs": [
    {
     "name": "stdin",
     "output_type": "stream",
     "text": [
      "Digite um numero 12\n",
      "Digite outro numero 0\n"
     ]
    },
    {
     "ename": "ZeroDivisionError",
     "evalue": "division by zero",
     "output_type": "error",
     "traceback": [
      "\u001b[1;31m---------------------------------------------------------------------------\u001b[0m",
      "\u001b[1;31mZeroDivisionError\u001b[0m                         Traceback (most recent call last)",
      "Cell \u001b[1;32mIn[16], line 3\u001b[0m\n\u001b[0;32m      1\u001b[0m a \u001b[38;5;241m=\u001b[39m \u001b[38;5;28minput\u001b[39m(\u001b[38;5;124m'\u001b[39m\u001b[38;5;124mDigite um numero\u001b[39m\u001b[38;5;124m'\u001b[39m)\n\u001b[0;32m      2\u001b[0m b \u001b[38;5;241m=\u001b[39m \u001b[38;5;28minput\u001b[39m(\u001b[38;5;124m'\u001b[39m\u001b[38;5;124mDigite outro numero\u001b[39m\u001b[38;5;124m'\u001b[39m)\n\u001b[1;32m----> 3\u001b[0m \u001b[38;5;28mprint\u001b[39m(\u001b[38;5;124m'\u001b[39m\u001b[38;5;124mA divisao é:\u001b[39m\u001b[38;5;124m'\u001b[39m,\u001b[38;5;28mint\u001b[39m(a)\u001b[38;5;241m/\u001b[39m\u001b[38;5;28mint\u001b[39m(b))\n",
      "\u001b[1;31mZeroDivisionError\u001b[0m: division by zero"
     ]
    }
   ],
   "source": [
    "a = input('Digite um numero')\n",
    "b = input('Digite outro numero')\n",
    "print('A divisao é:',int(a)/int(b))"
   ]
  },
  {
   "cell_type": "raw",
   "id": "e4184a47-e9e6-4a91-aa67-21175ff58e1c",
   "metadata": {},
   "source": [
    "try:\n",
    "    f = open('arquivo.txt','w')\n",
    "    f.write('tente escrever isto')\n",
    "except IOError:\n",
    "    print('não foi possivel localizar o arquivo')\n",
    "else:\n",
    "    print('texto escrito com sucesso!')\n",
    "    f.close()"
   ]
  },
  {
   "cell_type": "code",
   "execution_count": 12,
   "id": "c34248e8-0151-4a9e-82d8-493c1116d3d6",
   "metadata": {},
   "outputs": [
    {
     "name": "stdout",
     "output_type": "stream",
     "text": [
      "não foi possivel localizar o arquivo\n"
     ]
    }
   ],
   "source": [
    "try:\n",
    "    f = open('arquivo.txt','r')#sempre vai aparecer 'não foi possivel localizar o arquivo' por que Esta no argumento 'r' q significa q voce esta lendo. \n",
    "    f.write('tente escrever isto')\n",
    "except IOError:\n",
    "    print('não foi possivel localizar o arquivo')\n",
    "else:\n",
    "    print('texto escrito com sucesso!')\n",
    "    f.close()"
   ]
  },
  {
   "cell_type": "code",
   "execution_count": null,
   "id": "cbaa8f70-979f-49a8-840e-ed76e8118fd4",
   "metadata": {},
   "outputs": [],
   "source": [
    "r= read de ler\n",
    "w = write q é escrever"
   ]
  },
  {
   "cell_type": "code",
   "execution_count": 25,
   "id": "5a38dd4d-c432-4c2f-8a99-d6678ae08422",
   "metadata": {},
   "outputs": [
    {
     "name": "stdin",
     "output_type": "stream",
     "text": [
      "coloque o seu numero: 00\n",
      "coloque outro numero: 00\n"
     ]
    },
    {
     "name": "stdout",
     "output_type": "stream",
     "text": [
      "erro : Divisão por zero nao é permetido.\n",
      "sempre executa os comando do bloco finally\n"
     ]
    }
   ],
   "source": [
    "\n",
    "try:\n",
    "    a= input('coloque o seu numero:')\n",
    "    b= input('coloque outro numero:')\n",
    "    a= int(a)\n",
    "    b= int(b)\n",
    "    resultado = a / b\n",
    "    print ('a divisao é:',resultado)\n",
    "except ZeroDivisionError:\n",
    "    print ('erro : Divisão por zero nao é permetido.')\n",
    "except ValueError:\n",
    "    print ('Por favor, insira um valor numerico valido.')\n",
    "finally:\n",
    "    print('sempre executa os comando do bloco finally')"
   ]
  },
  {
   "cell_type": "code",
   "execution_count": 30,
   "id": "c757422c-adc8-46ce-ba2b-12b2487ab3e7",
   "metadata": {},
   "outputs": [
    {
     "name": "stdin",
     "output_type": "stream",
     "text": [
      "entre um inteiro: 30,1\n"
     ]
    },
    {
     "name": "stdout",
     "output_type": "stream",
     "text": [
      "espera isso nao e um inteiro\n",
      "codigo executado\n"
     ]
    }
   ],
   "source": [
    "def pergunta_numero():\n",
    "    try:\n",
    "        val=int(input('entre um inteiro:'))\n",
    "    except:\n",
    "        print('espera isso nao e um inteiro')\n",
    "    finally:\n",
    "        print('codigo executado')\n",
    "pergunta_numero()"
   ]
  },
  {
   "cell_type": "code",
   "execution_count": null,
   "id": "46faff5a-dd00-45ee-bd6b-fb80cab613dc",
   "metadata": {},
   "outputs": [
    {
     "name": "stdin",
     "output_type": "stream",
     "text": [
      "digite um numero inteiro: 9\n"
     ]
    },
    {
     "name": "stdout",
     "output_type": "stream",
     "text": [
      "tentativa numero: 1\n",
      "9\n"
     ]
    },
    {
     "name": "stdin",
     "output_type": "stream",
     "text": [
      "digite um numero inteiro: 1\n"
     ]
    },
    {
     "name": "stdout",
     "output_type": "stream",
     "text": [
      "muito bem\n",
      "tentativa numero: 2\n",
      "1\n"
     ]
    }
   ],
   "source": [
    "def pergunta():\n",
    "    numero=1;\n",
    "    while True:\n",
    "        try:# thy significa tente\n",
    "            val=int(input('digite um numero inteiro:'))\n",
    "            if val ==1:\n",
    "                print ('muito bem')\n",
    "        except ValueError:#except significa excessão\n",
    "            print('Parece que nao e um inteiro')\n",
    "            continue\n",
    "        finally:#finally significa finalmente\n",
    "            print ('tentativa numero:', numero)\n",
    "        numero += 1\n",
    "        print(val)\n",
    "pergunta()"
   ]
  },
  {
   "cell_type": "code",
   "execution_count": null,
   "id": "f3a90ab0-98aa-4adc-8fa7-db9ce90d7349",
   "metadata": {},
   "outputs": [],
   "source": []
  }
 ],
 "metadata": {
  "kernelspec": {
   "display_name": "Python 3 (ipykernel)",
   "language": "python",
   "name": "python3"
  },
  "language_info": {
   "codemirror_mode": {
    "name": "ipython",
    "version": 3
   },
   "file_extension": ".py",
   "mimetype": "text/x-python",
   "name": "python",
   "nbconvert_exporter": "python",
   "pygments_lexer": "ipython3",
   "version": "3.11.7"
  }
 },
 "nbformat": 4,
 "nbformat_minor": 5
}
