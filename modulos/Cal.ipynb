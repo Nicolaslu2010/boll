{
 "cells": [
  {
   "cell_type": "code",
   "execution_count": 3,
   "id": "ce209854-9d0a-46ba-8240-318518a0cca6",
   "metadata": {},
   "outputs": [],
   "source": [
    "def soma (a,b):\n",
    "    return a + b\n",
    "def seb (a,b):\n",
    "    return a-b\n",
    "def div (a,b):\n",
    "    return a/b\n",
    "def vaezs (a,b):\n",
    "    return a*b\n",
    "def elevado (a,b):\n",
    "    return a**b"
   ]
  },
  {
   "cell_type": "code",
   "execution_count": null,
   "id": "def9335c-871d-4672-a732-b3efb0de20ad",
   "metadata": {},
   "outputs": [],
   "source": []
  }
 ],
 "metadata": {
  "kernelspec": {
   "display_name": "Python 3 (ipykernel)",
   "language": "python",
   "name": "python3"
  },
  "language_info": {
   "codemirror_mode": {
    "name": "ipython",
    "version": 3
   },
   "file_extension": ".py",
   "mimetype": "text/x-python",
   "name": "python",
   "nbconvert_exporter": "python",
   "pygments_lexer": "ipython3",
   "version": "3.11.7"
  }
 },
 "nbformat": 4,
 "nbformat_minor": 5
}
