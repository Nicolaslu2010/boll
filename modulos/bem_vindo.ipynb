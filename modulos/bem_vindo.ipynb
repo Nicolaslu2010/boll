{
 "cells": [
  {
   "cell_type": "code",
   "execution_count": 38,
   "id": "19b84eb1-f268-41a0-9f45-225861941c2e",
   "metadata": {},
   "outputs": [],
   "source": [
    "import Cal\n",
    "import bem_vindo"
   ]
  },
  {
   "cell_type": "code",
   "execution_count": 34,
   "id": "eddf7e3c-638a-45c9-aa52-eae2dfe31f13",
   "metadata": {},
   "outputs": [
    {
     "name": "stdout",
     "output_type": "stream",
     "text": [
      "20\n"
     ]
    }
   ],
   "source": [
    "print(Cal.soma(10,10))"
   ]
  },
  {
   "cell_type": "code",
   "execution_count": 39,
   "id": "68258e5d-28c5-4db9-932a-a92121d28cb1",
   "metadata": {},
   "outputs": [
    {
     "ename": "AttributeError",
     "evalue": "module 'bem_vindo' has no attribute 'lea'",
     "output_type": "error",
     "traceback": [
      "\u001b[1;31m---------------------------------------------------------------------------\u001b[0m",
      "\u001b[1;31mAttributeError\u001b[0m                            Traceback (most recent call last)",
      "Cell \u001b[1;32mIn[39], line 1\u001b[0m\n\u001b[1;32m----> 1\u001b[0m \u001b[38;5;28mprint\u001b[39m(bem_vindo\u001b[38;5;241m.\u001b[39mlea(\u001b[38;5;241m1\u001b[39m,\u001b[38;5;241m2\u001b[39m))\n",
      "\u001b[1;31mAttributeError\u001b[0m: module 'bem_vindo' has no attribute 'lea'"
     ]
    }
   ],
   "source": [
    "print(bem_vindo.lea(1,2))"
   ]
  },
  {
   "cell_type": "code",
   "execution_count": 40,
   "id": "1a9db773-16d7-4b84-ba9c-5cbfe8464ac0",
   "metadata": {},
   "outputs": [
    {
     "ename": "AttributeError",
     "evalue": "module 'Cal' has no attribute 'lea'",
     "output_type": "error",
     "traceback": [
      "\u001b[1;31m---------------------------------------------------------------------------\u001b[0m",
      "\u001b[1;31mAttributeError\u001b[0m                            Traceback (most recent call last)",
      "Cell \u001b[1;32mIn[40], line 1\u001b[0m\n\u001b[1;32m----> 1\u001b[0m \u001b[38;5;28mprint\u001b[39m(Cal\u001b[38;5;241m.\u001b[39mlea(\u001b[38;5;241m2\u001b[39m,\u001b[38;5;241m5\u001b[39m))\n",
      "\u001b[1;31mAttributeError\u001b[0m: module 'Cal' has no attribute 'lea'"
     ]
    }
   ],
   "source": [
    "print(Cal.lea(2,5))"
   ]
  },
  {
   "cell_type": "code",
   "execution_count": null,
   "id": "2f117f71-0798-4352-9a9c-681d8786d8ae",
   "metadata": {},
   "outputs": [],
   "source": []
  }
 ],
 "metadata": {
  "kernelspec": {
   "display_name": "Python 3 (ipykernel)",
   "language": "python",
   "name": "python3"
  },
  "language_info": {
   "codemirror_mode": {
    "name": "ipython",
    "version": 3
   },
   "file_extension": ".py",
   "mimetype": "text/x-python",
   "name": "python",
   "nbconvert_exporter": "python",
   "pygments_lexer": "ipython3",
   "version": "3.11.7"
  }
 },
 "nbformat": 4,
 "nbformat_minor": 5
}
