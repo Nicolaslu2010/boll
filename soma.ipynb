{
 "cells": [
  {
   "cell_type": "code",
   "execution_count": 1,
   "id": "ebcce905-9c02-4df4-a0f9-6080f5fdaa67",
   "metadata": {},
   "outputs": [
    {
     "name": "stdout",
     "output_type": "stream",
     "text": [
      "Writing dalet.txt\n"
     ]
    }
   ],
   "source": [
    "%%writefile dalet.txt\n",
    "coca\n",
    "livro\n",
    "muchila"
   ]
  },
  {
   "cell_type": "code",
   "execution_count": null,
   "id": "100b9378-563e-4737-a891-322948a8a04b",
   "metadata": {},
   "outputs": [],
   "source": []
  }
 ],
 "metadata": {
  "kernelspec": {
   "display_name": "Python 3 (ipykernel)",
   "language": "python",
   "name": "python3"
  },
  "language_info": {
   "codemirror_mode": {
    "name": "ipython",
    "version": 3
   },
   "file_extension": ".py",
   "mimetype": "text/x-python",
   "name": "python",
   "nbconvert_exporter": "python",
   "pygments_lexer": "ipython3",
   "version": "3.11.7"
  }
 },
 "nbformat": 4,
 "nbformat_minor": 5
}
