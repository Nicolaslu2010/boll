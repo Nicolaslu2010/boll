{
 "cells": [
  {
   "cell_type": "code",
   "execution_count": 17,
   "id": "d8bae761-783c-448d-a356-5210370ecf0f",
   "metadata": {},
   "outputs": [
    {
     "name": "stdout",
     "output_type": "stream",
     "text": [
      " o restultado é:  15\n"
     ]
    }
   ],
   "source": [
    "def soma (a,b):\n",
    "    resultado = a + b\n",
    "    return resultado \n",
    "print(' o restultado é: ', + soma(10,5))"
   ]
  },
  {
   "cell_type": "code",
   "execution_count": 2,
   "id": "f68bab07-7cce-4eb0-9a76-f5ed3d66433c",
   "metadata": {},
   "outputs": [
    {
     "name": "stdout",
     "output_type": "stream",
     "text": [
      "o valor da Rt é  2.0\n"
     ]
    }
   ],
   "source": [
    "def Rt(Vt,It):\n",
    "    divisao = Vt / It\n",
    "    print('o valor da Rt é ', + divisao)\n",
    "\n",
    "Rt(400,200)"
   ]
  },
  {
   "cell_type": "code",
   "execution_count": 6,
   "id": "789c934e-60a5-4a3f-ba6f-6390c7e9fa04",
   "metadata": {},
   "outputs": [
    {
     "name": "stdout",
     "output_type": "stream",
     "text": [
      "o valor da conta é 2.0\n"
     ]
    }
   ],
   "source": [
    "def It(Vt,Rt):\n",
    "    vezes = Vt / Rt\n",
    "    print('o valor da conta é', + vezes)\n",
    "\n",
    "It(400, 200)\n",
    "    "
   ]
  },
  {
   "cell_type": "code",
   "execution_count": 10,
   "id": "363f97a7-8961-42e5-8e48-01e16860a962",
   "metadata": {},
   "outputs": [
    {
     "name": "stdout",
     "output_type": "stream",
     "text": [
      "o valor da conta é 80000\n"
     ]
    }
   ],
   "source": [
    "def Vt(It,Rt):\n",
    "    vezes = It * Rt\n",
    "    print('o valor da conta é', + vezes)\n",
    "\n",
    "Vt(400 , 200)"
   ]
  },
  {
   "cell_type": "code",
   "execution_count": 12,
   "id": "681959b2-4ee8-46b0-8d62-a0453bc0a912",
   "metadata": {},
   "outputs": [
    {
     "name": "stdout",
     "output_type": "stream",
     "text": [
      "Sua pizza de : queijo com farinha\n",
      "Sua pizza de : mussarela com farinha\n"
     ]
    }
   ],
   "source": [
    "def pizza(sabor,massa = 'farinha'):\n",
    "    print('Sua pizza de :', sabor ,'com',massa)\n",
    "pizza('queijo')\n",
    "pizza('mussarela')\n",
    "       "
   ]
  },
  {
   "cell_type": "code",
   "execution_count": 22,
   "id": "958a7950-7a48-4c94-a3ac-091d25eb8215",
   "metadata": {},
   "outputs": [
    {
     "name": "stdout",
     "output_type": "stream",
     "text": [
      "A soma de:  10 + 5 é igual a:  15\n"
     ]
    }
   ],
   "source": [
    "def soma(a,b):\n",
    "    resultado = a + b\n",
    "    return resultado \n",
    "a=10\n",
    "b=5\n",
    "print('A soma de: ',a, '+', b ,'é igual a: ', + soma(a,b))"
   ]
  },
  {
   "cell_type": "code",
   "execution_count": 25,
   "id": "0b68f1b4-e286-4396-91fc-35af72ad8c4e",
   "metadata": {},
   "outputs": [
    {
     "name": "stdout",
     "output_type": "stream",
     "text": [
      "o menor valor entre 5 e 10 é 5\n"
     ]
    }
   ],
   "source": [
    "def menor(a,b):\n",
    "    if a<=b:\n",
    "        return a\n",
    "    else:\n",
    "        return b\n",
    "a = 5\n",
    "b = 10\n",
    "print('o menor valor entre', a,'e', b ,'é', menor(a,b))"
   ]
  },
  {
   "cell_type": "code",
   "execution_count": 37,
   "id": "2be6fe25-1601-4da9-adeb-70c632406d1c",
   "metadata": {},
   "outputs": [
    {
     "name": "stdout",
     "output_type": "stream",
     "text": [
      "\n",
      " Fazendo o cachorro quente de tamanho grande com os seguintes ingredientes: \n",
      "- salsicha\n",
      "- pure de batata\n",
      "- vinagrete\n",
      "- pão\n"
     ]
    }
   ],
   "source": [
    "def cachorro_quente(*ingrediente , tamanho='medio'):\n",
    "    print('\\n Fazendo o cachorro quente de tamanho', tamanho ,'com os seguintes ingredientes: ')\n",
    "    for ingrediente in ingrediente:\n",
    "        print('-', ingrediente)\n",
    "cachorro_quente('salsicha','pure de batata','vinagrete','pão', tamanho = 'grande') "
   ]
  },
  {
   "cell_type": "code",
   "execution_count": 41,
   "id": "fbdc960e-59fd-4242-a497-0a783d69b7da",
   "metadata": {},
   "outputs": [
    {
     "name": "stdout",
     "output_type": "stream",
     "text": [
      "maior: 6\n",
      "menor: 1\n"
     ]
    }
   ],
   "source": [
    "def menor(lista):\n",
    "    menorValor = lista[0]\n",
    "    for x in lista:\n",
    "        if(x<menorValor):\n",
    "            menorValor=x\n",
    "    return menorValor\n",
    "def maior(lista):\n",
    "    maiorValor = lista [0]\n",
    "    for x in lista:\n",
    "        if(x>maiorValor):\n",
    "            maiorValor=x\n",
    "    return maiorValor \n",
    "def maiormenor(lista):\n",
    "    print('maior:',maior(lista))\n",
    "    print('menor:', menor(lista))\n",
    "maiormenor([4,5,6,2,1,3])"
   ]
  },
  {
   "cell_type": "code",
   "execution_count": null,
   "id": "0202f9c7-ba5c-409d-9c29-732939954113",
   "metadata": {},
   "outputs": [],
   "source": []
  }
 ],
 "metadata": {
  "kernelspec": {
   "display_name": "Python 3 (ipykernel)",
   "language": "python",
   "name": "python3"
  },
  "language_info": {
   "codemirror_mode": {
    "name": "ipython",
    "version": 3
   },
   "file_extension": ".py",
   "mimetype": "text/x-python",
   "name": "python",
   "nbconvert_exporter": "python",
   "pygments_lexer": "ipython3",
   "version": "3.11.7"
  }
 },
 "nbformat": 4,
 "nbformat_minor": 5
}
