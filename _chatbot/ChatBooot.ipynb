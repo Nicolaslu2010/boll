{
 "cells": [
  {
   "cell_type": "code",
   "execution_count": 2,
   "id": "24e6ff65-88b8-4526-acee-9b7058e7fefe",
   "metadata": {},
   "outputs": [],
   "source": [
    "#!/usr/bin/env python\n",
    "# coding: utf-8\n",
    "\n",
    "# In[2]:\n",
    "\n",
    "\n",
    "def exibeResposta_GUI(texto, resposta, nome):\n",
    "    return resposta.replace(\"Chatbot\",nome)\n",
    "    \n",
    "def saudacao_GUI(nome):\n",
    "    import random\n",
    "    frases = [\"Bom dia! Meu nome é \" + nome + \". Como vai você?\", \"Olá!\", \"Oi, tudo bem?\"]\n",
    "    return frases[random.randint(0,2)]\n",
    "\n",
    "def salva_sugestao(sugestao):\n",
    "    with open(\"BaseDeConhecimento.txt\",\"a+\") as conhecimento:\n",
    "        conhecimento.write(\"Chatbot: \" + sugestao + \"\\n\")\n",
    "        \n",
    "def buscaResposta_GUI(texto):\n",
    "    with open(\"BaseDeConhecimento.txt\",\"a+\") as conhecimento:\n",
    "        conhecimento.seek(0)\n",
    "        while True:\n",
    "            viu = conhecimento.readline()\n",
    "            if viu != \"\":\n",
    "                if jaccard(texto,viu) > 0.3:\n",
    "                    proximalinha = conhecimento.readline()\n",
    "                    if \"Chatbot: \" in proximalinha:\n",
    "                        return proximalinha\n",
    "            else:\n",
    "                conhecimento.write('\\n' + texto)\n",
    "                return \"Me desculpe, não sei o que falar\"\n",
    "            \n",
    "def jaccard(textoUsuario, textoBase):\n",
    "    textoUsuario = limpa_frase(textoUsuario)\n",
    "    textoBase = limpa_frase(textoBase)\n",
    "    if len(textoBase)<1: return 0\n",
    "    else:\n",
    "        palavras_em_comum = 0\n",
    "        for palavra in textoUsuario.split():\n",
    "            if palavra in textoBase.split():\n",
    "                palavras_em_comum += 1\n",
    "        return palavras_em_comum/(len(textoBase.split()))\n",
    "    \n",
    "def limpa_frase(frase):\n",
    "    tirar = [\"?\",\"!\",\"...\",\".\",\",\",\"Cliente: \", \"\\n\"]\n",
    "    for t in tirar:\n",
    "        frase = frase.replace(t,\"\")\n",
    "    frase = frase.upper()\n",
    "    return frase\n",
    "\n",
    "\n",
    "# In[ ]:"
   ]
  },
  {
   "cell_type": "code",
   "execution_count": null,
   "id": "6b73806d-c8bd-4ed3-9a02-19ea4b94c931",
   "metadata": {},
   "outputs": [],
   "source": []
  }
 ],
 "metadata": {
  "kernelspec": {
   "display_name": "Python 3 (ipykernel)",
   "language": "python",
   "name": "python3"
  },
  "language_info": {
   "codemirror_mode": {
    "name": "ipython",
    "version": 3
   },
   "file_extension": ".py",
   "mimetype": "text/x-python",
   "name": "python",
   "nbconvert_exporter": "python",
   "pygments_lexer": "ipython3",
   "version": "3.11.7"
  }
 },
 "nbformat": 4,
 "nbformat_minor": 5
}
