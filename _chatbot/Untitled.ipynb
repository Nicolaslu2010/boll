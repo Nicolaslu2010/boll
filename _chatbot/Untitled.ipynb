{
 "cells": [
  {
   "cell_type": "code",
   "execution_count": 2,
   "id": "16144698-7daa-4717-b38c-ed334dd1da3f",
   "metadata": {},
   "outputs": [
    {
     "ename": "AttributeError",
     "evalue": "module 'ProjetoChatBotFinal' has no attribute 'saudacoes'",
     "output_type": "error",
     "traceback": [
      "\u001b[1;31m---------------------------------------------------------------------------\u001b[0m",
      "\u001b[1;31mAttributeError\u001b[0m                            Traceback (most recent call last)",
      "Cell \u001b[1;32mIn[2], line 4\u001b[0m\n\u001b[0;32m      1\u001b[0m \u001b[38;5;28;01mimport\u001b[39;00m \u001b[38;5;21;01mProjetoChatBotFinal\u001b[39;00m \u001b[38;5;28;01mas\u001b[39;00m \u001b[38;5;21;01mpc\u001b[39;00m \n\u001b[0;32m      3\u001b[0m nome_maquina \u001b[38;5;241m=\u001b[39m \u001b[38;5;124m'\u001b[39m\u001b[38;5;124mMidoriya\u001b[39m\u001b[38;5;124m'\u001b[39m\n\u001b[1;32m----> 4\u001b[0m pc\u001b[38;5;241m.\u001b[39msaudacoes(nome_maquina)\n\u001b[0;32m      5\u001b[0m \u001b[38;5;28;01mwhile\u001b[39;00m \u001b[38;5;28;01mTrue\u001b[39;00m:\n\u001b[0;32m      6\u001b[0m     texto \u001b[38;5;241m=\u001b[39m pc\u001b[38;5;241m.\u001b[39mrecebeTexto()\n",
      "\u001b[1;31mAttributeError\u001b[0m: module 'ProjetoChatBotFinal' has no attribute 'saudacoes'"
     ]
    }
   ],
   "source": [
    "import ProjetoChatBotFinal as pc \n",
    "\n",
    "nome_maquina = 'Midoriya'\n",
    "pc.saudacoes(nome_maquina)\n",
    "while True:\n",
    "    texto = pc.recebeTexto()\n",
    "    resposta = pc.buscaResposta(nome_maquina,texto)\n",
    "    if pc.exibeResposta(resposta,nome_maquina) == 'fim':\n",
    "        break"
   ]
  },
  {
   "cell_type": "code",
   "execution_count": null,
   "id": "bf89feb3-1e4e-45fe-acb4-ebac73be77d1",
   "metadata": {},
   "outputs": [],
   "source": []
  }
 ],
 "metadata": {
  "kernelspec": {
   "display_name": "Python 3 (ipykernel)",
   "language": "python",
   "name": "python3"
  },
  "language_info": {
   "codemirror_mode": {
    "name": "ipython",
    "version": 3
   },
   "file_extension": ".py",
   "mimetype": "text/x-python",
   "name": "python",
   "nbconvert_exporter": "python",
   "pygments_lexer": "ipython3",
   "version": "3.11.7"
  }
 },
 "nbformat": 4,
 "nbformat_minor": 5
}
