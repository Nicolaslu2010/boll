{
 "cells": [
  {
   "cell_type": "code",
   "execution_count": 3,
   "id": "8392db4f-bd84-4781-b7ca-c0f7f1f02c92",
   "metadata": {},
   "outputs": [
    {
     "name": "stdout",
     "output_type": "stream",
     "text": [
      "Funcoes do python\n"
     ]
    }
   ],
   "source": [
    "def funcoes():\n",
    "     print(\"Funcoes do python\")\n",
    "funcoes()"
   ]
  },
  {
   "cell_type": "code",
   "execution_count": 8,
   "id": "4ec559e8-9d80-4f49-9442-adeb6698f87e",
   "metadata": {},
   "outputs": [
    {
     "name": "stdout",
     "output_type": "stream",
     "text": [
      "hoje a aula sera de:  funçoes em python entao preste atençao\n"
     ]
    }
   ],
   "source": [
    "def intro(aula):\n",
    "    print('hoje a aula sera de: ', aula , 'entao preste atençao')\n",
    "\n",
    "intro('funçoes em python')"
   ]
  },
  {
   "cell_type": "code",
   "execution_count": 10,
   "id": "d8e1b0f1-f6f6-4aa4-8e1e-d48733e40b7a",
   "metadata": {},
   "outputs": [
    {
     "name": "stdout",
     "output_type": "stream",
     "text": [
      "esta descarregando 15\n"
     ]
    }
   ],
   "source": [
    "def carregar(bateria):\n",
    "    print('esta descarregando', bateria)\n",
    "carregar(15)"
   ]
  },
  {
   "cell_type": "code",
   "execution_count": 12,
   "id": "47f1690b-475b-464d-82cf-f7651652d332",
   "metadata": {},
   "outputs": [
    {
     "name": "stdin",
     "output_type": "stream",
     "text": [
      "digite seu manga fav sensi life\n"
     ]
    },
    {
     "name": "stdout",
     "output_type": "stream",
     "text": [
      "Meu manga favorito e:  sensi life\n"
     ]
    }
   ],
   "source": [
    "def mangafav(manga):\n",
    "    print('Meu manga favorito e: ' , manga)\n",
    "mangafav(input('digite seu manga fav'))"
   ]
  },
  {
   "cell_type": "code",
   "execution_count": 13,
   "id": "6091e43a-c9a7-4a11-891d-eb1181a91cb2",
   "metadata": {},
   "outputs": [
    {
     "name": "stdout",
     "output_type": "stream",
     "text": [
      "15\n"
     ]
    }
   ],
   "source": [
    "def soma (a,b):\n",
    "    resultado = a + b \n",
    "    return resultado\n",
    "\n",
    "print(soma(10, 5))"
   ]
  },
  {
   "cell_type": "code",
   "execution_count": 30,
   "id": "9b57e712-e003-457f-a297-185684d4f1c3",
   "metadata": {},
   "outputs": [
    {
     "name": "stdin",
     "output_type": "stream",
     "text": [
      "jog1 minecraft\n",
      "b fortinite\n",
      "a brawl stars\n"
     ]
    },
    {
     "name": "stdout",
     "output_type": "stream",
     "text": [
      "Os jogo favoritos são:  minecraft , fortinite , e brawl stars\n"
     ]
    }
   ],
   "source": [
    "def jogos(jg1,jg2,jg3):\n",
    "    print(\"Os jogo favoritos são: \", jg1,',', jg2,',', 'e',jg3)\n",
    "jogos(jg2= input('b'), jg1 = input('jog1'),  jg3 = input('a'))"
   ]
  },
  {
   "cell_type": "code",
   "execution_count": 29,
   "id": "96d1b118-25f6-49f0-80ab-705171eb9a2a",
   "metadata": {},
   "outputs": [
    {
     "name": "stdout",
     "output_type": "stream",
     "text": [
      "a velocidade é: 100.0 Km/h\n"
     ]
    }
   ],
   "source": [
    "def velocidade_media(distancia, tempo):\n",
    "    print ('a velocidade é:' ,distancia/tempo ,'Km/h')\n",
    "velocidade_media(1000, 10)"
   ]
  },
  {
   "cell_type": "code",
   "execution_count": null,
   "id": "4cbdb135-4c62-4bb9-9387-a1951cfca7cb",
   "metadata": {},
   "outputs": [],
   "source": []
  }
 ],
 "metadata": {
  "kernelspec": {
   "display_name": "Python 3 (ipykernel)",
   "language": "python",
   "name": "python3"
  },
  "language_info": {
   "codemirror_mode": {
    "name": "ipython",
    "version": 3
   },
   "file_extension": ".py",
   "mimetype": "text/x-python",
   "name": "python",
   "nbconvert_exporter": "python",
   "pygments_lexer": "ipython3",
   "version": "3.11.7"
  }
 },
 "nbformat": 4,
 "nbformat_minor": 5
}
