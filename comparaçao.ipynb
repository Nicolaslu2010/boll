{
 "cells": [
  {
   "cell_type": "code",
   "execution_count": 4,
   "id": "1fdfa3a7-757c-46a9-8647-85f040c0ea69",
   "metadata": {},
   "outputs": [
    {
     "data": {
      "text/plain": [
       "True"
      ]
     },
     "execution_count": 4,
     "metadata": {},
     "output_type": "execute_result"
    }
   ],
   "source": [
    "num1 = 95\n",
    "num2 = 42\n",
    "num1 == num2 + 53"
   ]
  },
  {
   "cell_type": "code",
   "execution_count": 9,
   "id": "aa98558e-27e3-4787-99f5-8a4a176fe608",
   "metadata": {},
   "outputs": [
    {
     "data": {
      "text/plain": [
       "True"
      ]
     },
     "execution_count": 9,
     "metadata": {},
     "output_type": "execute_result"
    }
   ],
   "source": [
    "num3 = 'cortar'\n",
    "num4 = 'chinelo'\n",
    "num3 != num4"
   ]
  },
  {
   "cell_type": "code",
   "execution_count": 10,
   "id": "6783ad6f-74a9-4626-8b1d-b395444aa48d",
   "metadata": {},
   "outputs": [
    {
     "data": {
      "text/plain": [
       "True"
      ]
     },
     "execution_count": 10,
     "metadata": {},
     "output_type": "execute_result"
    }
   ],
   "source": [
    "var = 78\n",
    "var1 = 77\n",
    "var > var1"
   ]
  },
  {
   "cell_type": "code",
   "execution_count": 11,
   "id": "54b5aaea-27fe-4553-bafd-a4ee1dc07acf",
   "metadata": {},
   "outputs": [
    {
     "data": {
      "text/plain": [
       "False"
      ]
     },
     "execution_count": 11,
     "metadata": {},
     "output_type": "execute_result"
    }
   ],
   "source": [
    "var < var1"
   ]
  },
  {
   "cell_type": "code",
   "execution_count": 13,
   "id": "f9bc99f8-bf08-400d-91c3-4a6573897b30",
   "metadata": {},
   "outputs": [
    {
     "data": {
      "text/plain": [
       "True"
      ]
     },
     "execution_count": 13,
     "metadata": {},
     "output_type": "execute_result"
    }
   ],
   "source": [
    "a = 'sonic' \n",
    "b = 'blastoise'\n",
    "a >= b"
   ]
  },
  {
   "cell_type": "code",
   "execution_count": 15,
   "id": "52652c82-36b3-470e-bbe7-8fdc6b112a46",
   "metadata": {},
   "outputs": [
    {
     "data": {
      "text/plain": [
       "False"
      ]
     },
     "execution_count": 15,
     "metadata": {},
     "output_type": "execute_result"
    }
   ],
   "source": [
    "a <= b "
   ]
  },
  {
   "cell_type": "code",
   "execution_count": 16,
   "id": "eb7b7a66-7558-4189-ae3a-dd5166efa2c6",
   "metadata": {},
   "outputs": [
    {
     "data": {
      "text/plain": [
       "True"
      ]
     },
     "execution_count": 16,
     "metadata": {},
     "output_type": "execute_result"
    }
   ],
   "source": [
    "10 > 5 and 5 < 10"
   ]
  },
  {
   "cell_type": "code",
   "execution_count": 17,
   "id": "58b07d42-34ba-471d-8c03-ec950ebd3269",
   "metadata": {},
   "outputs": [
    {
     "data": {
      "text/plain": [
       "True"
      ]
     },
     "execution_count": 17,
     "metadata": {},
     "output_type": "execute_result"
    }
   ],
   "source": [
    "100 == 100 or 200 == 100"
   ]
  },
  {
   "cell_type": "code",
   "execution_count": 22,
   "id": "af6da89e-561b-4305-8b57-870b6913406d",
   "metadata": {},
   "outputs": [
    {
     "name": "stdout",
     "output_type": "stream",
     "text": [
      "recuperação\n"
     ]
    }
   ],
   "source": [
    "nota = 5 \n",
    "if nota >= 6 :\n",
    "    print ('aluno aprovado ') \n",
    "elif 4 < nota < 6 :\n",
    "    print ('recuperação')\n",
    "else:\n",
    "    print('aluno reprovado')\n"
   ]
  },
  {
   "cell_type": "code",
   "execution_count": null,
   "id": "fb605136-6f5b-4929-a5de-ae0a173239f7",
   "metadata": {},
   "outputs": [],
   "source": [
    "dano = int(input())\n",
    "if dano >=80:\n",
    "    print(\"inimigo derrotado\")\n",
    "elif 40 < dano < 70:\n",
    "    print('ataque novamente')\n",
    "else:\n",
    "    print('game over')"
   ]
  },
  {
   "cell_type": "code",
   "execution_count": null,
   "id": "8ed3e478-fe0e-4427-8e4a-5ca078c1a7ba",
   "metadata": {},
   "outputs": [],
   "source": []
  }
 ],
 "metadata": {
  "kernelspec": {
   "display_name": "Python 3 (ipykernel)",
   "language": "python",
   "name": "python3"
  },
  "language_info": {
   "codemirror_mode": {
    "name": "ipython",
    "version": 3
   },
   "file_extension": ".py",
   "mimetype": "text/x-python",
   "name": "python",
   "nbconvert_exporter": "python",
   "pygments_lexer": "ipython3",
   "version": "3.11.7"
  }
 },
 "nbformat": 4,
 "nbformat_minor": 5
}
