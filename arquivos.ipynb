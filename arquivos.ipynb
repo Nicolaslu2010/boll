{
 "cells": [
  {
   "cell_type": "code",
   "execution_count": 65,
   "id": "1624791c-8deb-4050-9ab1-6b2b1172f08e",
   "metadata": {},
   "outputs": [
    {
     "name": "stdout",
     "output_type": "stream",
     "text": [
      "Overwriting jogodehj.txt\n"
     ]
    }
   ],
   "source": [
    "%%writefile jogodehj.txt\n",
    "Elden Ring\n",
    "Boderlandas 3\n",
    "'eee'\n",
    "a\n",
    "a\n",
    "a\n",
    "a\n",
    "a\n",
    "a\n",
    "a"
   ]
  },
  {
   "cell_type": "code",
   "execution_count": 35,
   "id": "2de714a3-a677-4df1-8a72-fb8b6847d951",
   "metadata": {},
   "outputs": [],
   "source": [
    "kaiju_08 = open('j.txt')"
   ]
  },
  {
   "cell_type": "code",
   "execution_count": 36,
   "id": "c007c877-8937-44a7-9061-98661e736e50",
   "metadata": {},
   "outputs": [
    {
     "data": {
      "text/plain": [
       "\"Elden Ring\\nBoderlandas 3\\n'eee'\\n\""
      ]
     },
     "execution_count": 36,
     "metadata": {},
     "output_type": "execute_result"
    }
   ],
   "source": [
    "kaiju_08.read()"
   ]
  },
  {
   "cell_type": "code",
   "execution_count": 37,
   "id": "089b3a3a-e530-43cc-aaf0-9240359724a4",
   "metadata": {},
   "outputs": [
    {
     "data": {
      "text/plain": [
       "0"
      ]
     },
     "execution_count": 37,
     "metadata": {},
     "output_type": "execute_result"
    }
   ],
   "source": [
    "kaiju_08.seek(0)"
   ]
  },
  {
   "cell_type": "code",
   "execution_count": 38,
   "id": "81a61ffd-5850-4baf-bc16-2ac762b8bc10",
   "metadata": {},
   "outputs": [
    {
     "name": "stdout",
     "output_type": "stream",
     "text": [
      "Elden Ring\n",
      "\n",
      "Boderlandas 3\n",
      "\n",
      "'eee'\n",
      "\n"
     ]
    }
   ],
   "source": [
    "print(kaiju_08.readline())\n",
    "print(kaiju_08.readline())\n",
    "print(kaiju_08.readline())"
   ]
  },
  {
   "cell_type": "code",
   "execution_count": 39,
   "id": "29b46276-1ff3-4190-b321-91a146e4af44",
   "metadata": {},
   "outputs": [
    {
     "name": "stdout",
     "output_type": "stream",
     "text": [
      "Writing Personagens.txt\n"
     ]
    }
   ],
   "source": [
    "%%writefile Personagens.txt\n",
    "Naruto \\n Conorra \n",
    "itadori \\n japão\n",
    "slaime \\n tespeste \n",
    "mulheralmait \\n EUA"
   ]
  },
  {
   "cell_type": "code",
   "execution_count": 44,
   "id": "aeac0a87-c283-4a1f-b9b4-fe226917c018",
   "metadata": {},
   "outputs": [],
   "source": [
    "Personagens = open ('Personagens.txt')"
   ]
  },
  {
   "cell_type": "code",
   "execution_count": 45,
   "id": "7f5cabd0-cc0d-4faa-8993-5e60588ba44d",
   "metadata": {},
   "outputs": [
    {
     "data": {
      "text/plain": [
       "'Naruto \\\\n Conorra \\nitadori \\\\n japÃ£o\\nslaime \\\\n tespeste \\nmulheralmait \\\\n EUA\\n'"
      ]
     },
     "execution_count": 45,
     "metadata": {},
     "output_type": "execute_result"
    }
   ],
   "source": [
    "Personagens.read()"
   ]
  },
  {
   "cell_type": "code",
   "execution_count": 46,
   "id": "3eb83988-ec39-41a8-a978-141f541fc105",
   "metadata": {},
   "outputs": [
    {
     "data": {
      "text/plain": [
       "0"
      ]
     },
     "execution_count": 46,
     "metadata": {},
     "output_type": "execute_result"
    }
   ],
   "source": [
    "Personagens.seek(0)"
   ]
  },
  {
   "cell_type": "code",
   "execution_count": 47,
   "id": "c5087bd6-23b0-44b4-99d1-c91cbc285342",
   "metadata": {},
   "outputs": [
    {
     "name": "stdout",
     "output_type": "stream",
     "text": [
      "Naruto \\n Conorra \n",
      "\n",
      "itadori \\n japÃ£o\n",
      "\n",
      "slaime \\n tespeste \n",
      "\n"
     ]
    }
   ],
   "source": [
    "print(Personagens.readline())\n",
    "print(Personagens.readline())\n",
    "print(Personagens.readline())\n"
   ]
  },
  {
   "cell_type": "code",
   "execution_count": 49,
   "id": "9791c50b-364b-4c59-9631-90fd4dc94c29",
   "metadata": {},
   "outputs": [
    {
     "name": "stdout",
     "output_type": "stream",
     "text": [
      "Naruto \\n Conorra \n",
      "\n",
      "itadori \\n japÃ£o\n",
      "\n",
      "slaime \\n tespeste \n",
      "\n",
      "mulheralmait \\n EUA\n",
      "\n"
     ]
    }
   ],
   "source": [
    "arquivo = open('Personagens.txt','r')\n",
    "for x in arquivo:\n",
    "    print(x)"
   ]
  },
  {
   "cell_type": "code",
   "execution_count": 50,
   "id": "7a265f8f-71a1-4745-879e-4d7f20a70d52",
   "metadata": {},
   "outputs": [
    {
     "data": {
      "text/plain": [
       "25"
      ]
     },
     "execution_count": 50,
     "metadata": {},
     "output_type": "execute_result"
    }
   ],
   "source": [
    "arquivo = open('origem.txt','w')\n",
    "arquivo.write('Frank veio do brawl stars')"
   ]
  },
  {
   "cell_type": "code",
   "execution_count": 55,
   "id": "e39ae498-3450-4690-8a27-5a0ee5beb5ef",
   "metadata": {},
   "outputs": [
    {
     "data": {
      "text/plain": [
       "'/n corvo de brawl starsrs/n corvo de brawl stars'"
      ]
     },
     "execution_count": 55,
     "metadata": {},
     "output_type": "execute_result"
    }
   ],
   "source": [
    "arquivo = open('origem.txt')\n",
    "arquivo.seek(0)\n",
    "arquivo.read()"
   ]
  },
  {
   "cell_type": "code",
   "execution_count": 57,
   "id": "0525ca0e-a16b-427c-9b60-549226bc4e9c",
   "metadata": {},
   "outputs": [
    {
     "data": {
      "text/plain": [
       "'rs/n corvo de brawl stars'"
      ]
     },
     "execution_count": 57,
     "metadata": {},
     "output_type": "execute_result"
    }
   ],
   "source": [
    "arquivo = open('origem.txt', 'r+')\n",
    "arquivo.write('/n corvo de brawl stars')\n",
    "arquivo.read()"
   ]
  },
  {
   "cell_type": "code",
   "execution_count": 59,
   "id": "6a2ac729-3740-47db-9aa8-6e9ba6ef15fb",
   "metadata": {},
   "outputs": [],
   "source": [
    "kaiju_08.close()\n",
    "arquivo.close()"
   ]
  },
  {
   "cell_type": "code",
   "execution_count": 60,
   "id": "f2e94c88-54b8-49fe-98b3-ba4ddd33f241",
   "metadata": {},
   "outputs": [
    {
     "ename": "ValueError",
     "evalue": "I/O operation on closed file.",
     "output_type": "error",
     "traceback": [
      "\u001b[1;31m---------------------------------------------------------------------------\u001b[0m",
      "\u001b[1;31mValueError\u001b[0m                                Traceback (most recent call last)",
      "Cell \u001b[1;32mIn[60], line 1\u001b[0m\n\u001b[1;32m----> 1\u001b[0m kaiju_08\u001b[38;5;241m.\u001b[39mread()\n",
      "\u001b[1;31mValueError\u001b[0m: I/O operation on closed file."
     ]
    }
   ],
   "source": [
    "kaiju_08.read()"
   ]
  },
  {
   "cell_type": "code",
   "execution_count": 67,
   "id": "04b0ec4b-c9fb-42b6-96d3-5b5416ca5111",
   "metadata": {},
   "outputs": [
    {
     "name": "stdout",
     "output_type": "stream",
     "text": [
      "Elden Ring\n",
      "\n",
      "Boderlandas 3\n",
      "\n"
     ]
    }
   ],
   "source": [
    "with open('jogodehj.txt') as arquivo:\n",
    "    print(arquivo.readline())\n",
    "    print(arquivo.readline())"
   ]
  },
  {
   "cell_type": "code",
   "execution_count": null,
   "id": "0160455c-59bd-4de6-8868-e2d10a5b5247",
   "metadata": {},
   "outputs": [],
   "source": []
  }
 ],
 "metadata": {
  "kernelspec": {
   "display_name": "Python 3 (ipykernel)",
   "language": "python",
   "name": "python3"
  },
  "language_info": {
   "codemirror_mode": {
    "name": "ipython",
    "version": 3
   },
   "file_extension": ".py",
   "mimetype": "text/x-python",
   "name": "python",
   "nbconvert_exporter": "python",
   "pygments_lexer": "ipython3",
   "version": "3.11.7"
  }
 },
 "nbformat": 4,
 "nbformat_minor": 5
}
