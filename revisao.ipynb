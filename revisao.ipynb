{
 "cells": [
  {
   "cell_type": "code",
   "execution_count": 1,
   "id": "71135fae-12ae-4513-86e1-f238db6fcf96",
   "metadata": {},
   "outputs": [
    {
     "name": "stdout",
     "output_type": "stream",
     "text": [
      "nicolas\n"
     ]
    }
   ],
   "source": [
    "nome = 'nicolas' #crir a variavel nome e guarda a sting nicolas \n",
    "print(nome) #usa o camando print, que eo comando de exibir mensagem, para exibir a variavel nome"
   ]
  },
  {
   "cell_type": "code",
   "execution_count": 2,
   "id": "7e6d64dd-304a-4fff-8c61-1194056e647e",
   "metadata": {},
   "outputs": [
    {
     "name": "stdout",
     "output_type": "stream",
     "text": [
      "sua casa tem3 de portas\n"
     ]
    }
   ],
   "source": [
    "portas = 3 #cria variavel portas guardando o dado numero 3 \n",
    "print('sua casa tem '+str(portas)+ ' portas') # o str converte a variavel de dados dados para string"
   ]
  },
  {
   "cell_type": "code",
   "execution_count": 5,
   "id": "6bf5c0d1-6a43-49f1-b347-4eb152a7c482",
   "metadata": {},
   "outputs": [
    {
     "name": "stdin",
     "output_type": "stream",
     "text": [
      "qual seu nome nicolas\n"
     ]
    },
    {
     "name": "stdout",
     "output_type": "stream",
     "text": [
      "ola, nicolastudo bem?\n"
     ]
    }
   ],
   "source": [
    "entrada_usuario = input( 'qual seu nome') # criar a variavel com um input, permitindo escrita do usuario\n",
    "print('ola, ' + entrada_usuario + 'tudo bem?') #exibe a mensagem juntamente com a variavel criada pelo usuario"
   ]
  },
  {
   "cell_type": "code",
   "execution_count": 11,
   "id": "2b3a95e6-9104-4e3a-aa18-29324fa332f5",
   "metadata": {},
   "outputs": [
    {
     "name": "stdout",
     "output_type": "stream",
     "text": [
      "True\n",
      "(True, 'talvez')\n"
     ]
    }
   ],
   "source": [
    "t = ('um' ,2,'4',True, 'talvez' , False, 10)\n",
    "print(t[3])\n",
    "print(t[3:5])"
   ]
  },
  {
   "cell_type": "code",
   "execution_count": null,
   "id": "6b975c53-e1e0-4d58-bd86-42f7e3fde8d6",
   "metadata": {},
   "outputs": [],
   "source": []
  }
 ],
 "metadata": {
  "kernelspec": {
   "display_name": "Python 3 (ipykernel)",
   "language": "python",
   "name": "python3"
  },
  "language_info": {
   "codemirror_mode": {
    "name": "ipython",
    "version": 3
   },
   "file_extension": ".py",
   "mimetype": "text/x-python",
   "name": "python",
   "nbconvert_exporter": "python",
   "pygments_lexer": "ipython3",
   "version": "3.11.7"
  }
 },
 "nbformat": 4,
 "nbformat_minor": 5
}
