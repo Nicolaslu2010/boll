{
 "cells": [
  {
   "cell_type": "code",
   "execution_count": 2,
   "id": "7fd8f19c-cdf0-4ae4-9b65-c6223549d922",
   "metadata": {},
   "outputs": [
    {
     "name": "stderr",
     "output_type": "stream",
     "text": [
      "..\n",
      "----------------------------------------------------------------------\n",
      "Ran 2 tests in 0.003s\n",
      "\n",
      "OK\n"
     ]
    },
    {
     "data": {
      "text/plain": [
       "<unittest.main.TestProgram at 0x206f596ed10>"
      ]
     },
     "execution_count": 2,
     "metadata": {},
     "output_type": "execute_result"
    }
   ],
   "source": [
    "import unittest\n",
    "from exame import Prova\n",
    "\n",
    "class ProvaTest(unittest.TestCase):\n",
    "    def test_armazenaQuestao(self):\n",
    "        questao = 'O que aprendem os alunos do curso?'\n",
    "        p = Prova()\n",
    "        p.armazena_Questao_Resposta(questao, '')\n",
    "        self.assertIn('O que aprendem os alunos do curso?', p.questoes)\n",
    "        \n",
    "    def test_armazenaResposta(self):\n",
    "        resposta = 'Programação, robótica e muito mais'\n",
    "        p = Prova()\n",
    "        p.armazena_Questao_Resposta('', resposta)\n",
    "        self.assertIn('Programação, robótica e muito mais', p.respostas)\n",
    "\n",
    "unittest.main(argv=[''], exit=False)"
   ]
  },
  {
   "cell_type": "code",
   "execution_count": null,
   "id": "0c276d17-c532-4932-b508-79d85ebb646e",
   "metadata": {},
   "outputs": [],
   "source": []
  }
 ],
 "metadata": {
  "kernelspec": {
   "display_name": "Python 3 (ipykernel)",
   "language": "python",
   "name": "python3"
  },
  "language_info": {
   "codemirror_mode": {
    "name": "ipython",
    "version": 3
   },
   "file_extension": ".py",
   "mimetype": "text/x-python",
   "name": "python",
   "nbconvert_exporter": "python",
   "pygments_lexer": "ipython3",
   "version": "3.11.7"
  }
 },
 "nbformat": 4,
 "nbformat_minor": 5
}
