{
 "cells": [
  {
   "cell_type": "code",
   "execution_count": 3,
   "id": "2b55f1fa-4c84-40d8-bb71-98253c23546e",
   "metadata": {},
   "outputs": [
    {
     "name": "stdout",
     "output_type": "stream",
     "text": [
      "açucar\n",
      "('açucar', 'bolo')\n"
     ]
    }
   ],
   "source": [
    "t = ('bolo', 'salgadinho', 'chocolate', 'açucar', 'bolo')\n",
    "print(t[3])\n",
    "print(t[3:5])"
   ]
  },
  {
   "cell_type": "code",
   "execution_count": 4,
   "id": "556e465f-8f03-4577-965a-7ca82aa378e2",
   "metadata": {},
   "outputs": [
    {
     "data": {
      "text/plain": [
       "5"
      ]
     },
     "execution_count": 4,
     "metadata": {},
     "output_type": "execute_result"
    }
   ],
   "source": [
    "len(t)"
   ]
  },
  {
   "cell_type": "code",
   "execution_count": 5,
   "id": "ca4d7700-0f59-4c70-b3a6-2c3d84263ed8",
   "metadata": {},
   "outputs": [
    {
     "data": {
      "text/plain": [
       "2"
      ]
     },
     "execution_count": 5,
     "metadata": {},
     "output_type": "execute_result"
    }
   ],
   "source": [
    "t.count('bolo')"
   ]
  },
  {
   "cell_type": "code",
   "execution_count": 10,
   "id": "63f4c571-a882-4776-8e52-8c82dbad053c",
   "metadata": {},
   "outputs": [
    {
     "name": "stdout",
     "output_type": "stream",
     "text": [
      "{12, 'dez mirreis'}\n"
     ]
    }
   ],
   "source": [
    "bau = set()\n",
    "bau.add(12)\n",
    "bau.add('dez mirreis')\n",
    "bau.add(12)\n",
    "print(bau)"
   ]
  },
  {
   "cell_type": "code",
   "execution_count": 15,
   "id": "7fb7255e-8f3d-468b-858f-c1306850f9b3",
   "metadata": {},
   "outputs": [
    {
     "name": "stdout",
     "output_type": "stream",
     "text": [
      "True False False True None\n"
     ]
    }
   ],
   "source": [
    "a = True\n",
    "b + 10 < 9\n",
    "c = False\n",
    "d = 90 > 89\n",
    "e = None \n",
    "print(a,b,c,d,e)"
   ]
  },
  {
   "cell_type": "code",
   "execution_count": 17,
   "id": "79431edd-bcea-4c3a-a9c0-09907ab46c32",
   "metadata": {},
   "outputs": [
    {
     "name": "stdout",
     "output_type": "stream",
     "text": [
      "False\n",
      "True\n"
     ]
    }
   ],
   "source": [
    "e = 1>2 and True \n",
    "f = False or 100>99\n",
    "print(e)\n",
    "print(f)"
   ]
  },
  {
   "cell_type": "code",
   "execution_count": 33,
   "id": "8adfa8a0-f0c5-4c6b-82b4-a011c96fb16a",
   "metadata": {},
   "outputs": [
    {
     "name": "stdout",
     "output_type": "stream",
     "text": [
      "23\n",
      "cow\n"
     ]
    }
   ],
   "source": [
    "idadeXnome = {'Gabriel':23, 'amanda' : ' dezesseis', 'berto': '45' ,'Nicolas': '14'}\n",
    "print(idadeXnome['Gabriel'])\n",
    "tradutor = {' gato' : 'cat', 'vaca':'cow', 'tubarão' :'shark' , 'leon' : 'leão'}\n",
    "print(tradutor['vaca'])"
   ]
  },
  {
   "cell_type": "code",
   "execution_count": 35,
   "id": "3e8c181f-7e03-4590-b657-49c4f76a0ff5",
   "metadata": {},
   "outputs": [],
   "source": [
    "nomeXjogos = {'Gabriel' :['genshin', 'dead by daylight'], 'Nicolas' : 'braw stars' , 'Migu' : ['roblox','fortinite' , 'brawl stars']}"
   ]
  },
  {
   "cell_type": "code",
   "execution_count": 39,
   "id": "f206dd0d-949c-4e15-aca0-af34c5c762c7",
   "metadata": {},
   "outputs": [
    {
     "name": "stdout",
     "output_type": "stream",
     "text": [
      "GENSHIN\n"
     ]
    }
   ],
   "source": [
    "print (nomeXjogos['Gabriel'][0].upper())"
   ]
  },
  {
   "cell_type": "code",
   "execution_count": 43,
   "id": "86dd47f8-ae23-4240-91b0-32c885de0f88",
   "metadata": {},
   "outputs": [
    {
     "name": "stdout",
     "output_type": "stream",
     "text": [
      "dict_keys(['mouse', 'ben 10', 'Gojo'])\n"
     ]
    }
   ],
   "source": [
    "vazio = {}\n",
    "vazio['mouse'] = 'camundungo'\n",
    "vazio['ben 10'] = 'jogo'\n",
    "vazio['Gojo'] = 'vazio roxo'\n",
    "print(vazio.keys())"
   ]
  },
  {
   "cell_type": "code",
   "execution_count": 45,
   "id": "51d08391-13ed-4ec5-a629-006405e00d04",
   "metadata": {},
   "outputs": [
    {
     "ename": "SyntaxError",
     "evalue": "unterminated string literal (detected at line 1) (3164177329.py, line 1)",
     "output_type": "error",
     "traceback": [
      "\u001b[1;36m  Cell \u001b[1;32mIn[45], line 1\u001b[1;36m\u001b[0m\n\u001b[1;33m    armes = {'contusiva': {'porrete', ' martelo'}, 'cortantes':{'faca', 'metal, 'shuriken'},'magias' : {'luz'}}\u001b[0m\n\u001b[1;37m                                                                                                            ^\u001b[0m\n\u001b[1;31mSyntaxError\u001b[0m\u001b[1;31m:\u001b[0m unterminated string literal (detected at line 1)\n"
     ]
    }
   ],
   "source": [
    "armes = {'contusiva': {'porrete', ' martelo'}, 'cortantes':{'faca', 'metal, 'a'},'a' : {'luz'}}"
   ]
  },
  {
   "cell_type": "markdown",
   "id": "54d48658-e14b-4e4e-8ded-2abd0cf208c2",
   "metadata": {},
   "source": [
    "armes = {'contusiva': {'porrete', ' martelo'), 'cortantes':{'faca', 'metal, 'shuriken'},'magias' : {'luz'}}"
   ]
  },
  {
   "cell_type": "code",
   "execution_count": 51,
   "id": "21d7cb36-b1ee-44ba-95a2-b098899a253d",
   "metadata": {},
   "outputs": [
    {
     "name": "stdout",
     "output_type": "stream",
     "text": [
      "dict_keys(['contusiva', 'cortantes', 'magias'])\n",
      "dict_values([{'martelo', 'porrete'}, {'metal', 'faca', 'shuriken'}, {'luz'}])\n",
      "dict_items([('contusiva', {'martelo', 'porrete'}), ('cortantes', {'metal', 'faca', 'shuriken'}), ('magias', {'luz'})])\n"
     ]
    }
   ],
   "source": [
    "armas = {'contusiva': {'porrete', 'martelo'}, 'cortantes': {'faca', 'metal', 'shuriken'}, 'magias': {'luz'}}\n",
    "\n",
    "# Exibindo o dicionário\n",
    "print(armas.keys()) #chaves são antes dos: ou seja a primeira palavra\n",
    "print(armas.values())#valores são deois dos : ou seja a segunda, terceira...\n",
    "print(armas.items())#exibe todos o nossos dicionarios com Keys e Values"
   ]
  },
  {
   "cell_type": "code",
   "execution_count": null,
   "id": "5015df45-95f2-4a76-bc88-894efa868aa0",
   "metadata": {},
   "outputs": [
    {
     "name": "stdout",
     "output_type": "stream",
     "text": [
      "Palpite gerado\n"
     ]
    },
    {
     "name": "stdin",
     "output_type": "stream",
     "text": [
      "qual é o numero 57\n"
     ]
    },
    {
     "name": "stdout",
     "output_type": "stream",
     "text": [
      "avacalha não campeão, o numero da aposta está muito alto!\n"
     ]
    },
    {
     "name": "stdin",
     "output_type": "stream",
     "text": [
      "qual é o numero 67\n"
     ]
    },
    {
     "name": "stdout",
     "output_type": "stream",
     "text": [
      "avacalha não campeão, o numero da aposta está muito alto!\n"
     ]
    },
    {
     "name": "stdin",
     "output_type": "stream",
     "text": [
      "qual é o numero 77\n"
     ]
    },
    {
     "name": "stdout",
     "output_type": "stream",
     "text": [
      "avacalha não campeão, o numero da aposta está muito alto!\n"
     ]
    },
    {
     "name": "stdin",
     "output_type": "stream",
     "text": [
      "qual é o numero 87\n"
     ]
    },
    {
     "name": "stdout",
     "output_type": "stream",
     "text": [
      "avacalha não campeão, o numero da aposta está muito alto!\n"
     ]
    },
    {
     "name": "stdin",
     "output_type": "stream",
     "text": [
      "qual é o numero 97\n"
     ]
    },
    {
     "name": "stdout",
     "output_type": "stream",
     "text": [
      "salve salve campeão, o valor é menor que esse!\n"
     ]
    }
   ],
   "source": [
    "import random #Estamos importando a biblioteca random (aleatoria)\n",
    "\n",
    "def gera_numero_aleatorio(): #criamos uma função de numeros aleatorios.\n",
    "    return random.randint(1,150) #retornamos o comando random(aleatorio) gerando numeros de 1 entre 100.\n",
    "\n",
    "def tigrinho(): #criamos a função para criar o jogo do tigrinho 2 a vingança.\n",
    "    resposta = gera_numero_aleatorio()\n",
    "    tentativa = 0\n",
    "    print(\"Palpite gerado\")\n",
    "\n",
    "    while True:\n",
    "        tentativa += 1\n",
    "        chute = int(input(\"qual é o numero\"))\n",
    "\n",
    "        if chute > resposta:\n",
    "           print(\"salve salve campeão, o valor é menor que esse!\")\n",
    "        elif chute < resposta:\n",
    "           print(\"avacalha não campeão, o numero da aposta está muito alto!\")\n",
    "        else:\n",
    "         print(f\"PARABÉNS, VOCÊ VENCEU O JOGO DO TIGRINHO! O numero era {resposta}. Você tentou {tentativa} vezes.\")\n",
    "         break\n",
    "\n",
    "while True:\n",
    "     tigrinho()"
   ]
  },
  {
   "cell_type": "code",
   "execution_count": null,
   "id": "0754397b-4c7d-4c09-a6ca-708d64dc22fb",
   "metadata": {},
   "outputs": [],
   "source": []
  }
 ],
 "metadata": {
  "kernelspec": {
   "display_name": "Python 3 (ipykernel)",
   "language": "python",
   "name": "python3"
  },
  "language_info": {
   "codemirror_mode": {
    "name": "ipython",
    "version": 3
   },
   "file_extension": ".py",
   "mimetype": "text/x-python",
   "name": "python",
   "nbconvert_exporter": "python",
   "pygments_lexer": "ipython3",
   "version": "3.11.7"
  }
 },
 "nbformat": 4,
 "nbformat_minor": 5
}
