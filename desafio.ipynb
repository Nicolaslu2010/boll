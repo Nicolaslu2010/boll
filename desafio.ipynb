{
 "cells": [
  {
   "cell_type": "code",
   "execution_count": 2,
   "id": "d2347d24-70e8-4288-9d91-c061c1aab262",
   "metadata": {},
   "outputs": [
    {
     "name": "stdout",
     "output_type": "stream",
     "text": [
      "Hello World!\n"
     ]
    }
   ],
   "source": [
    "print('Hello World!') "
   ]
  },
  {
   "cell_type": "code",
   "execution_count": 10,
   "id": "d83d6652-61fe-4c82-9183-859d3c62f2e9",
   "metadata": {},
   "outputs": [],
   "source": [
    "def maior(a,b):\n",
    "    if a<=b:\n",
    "        return a\n",
    "    else:\n",
    "        return b"
   ]
  },
  {
   "cell_type": "code",
   "execution_count": 16,
   "id": "72d28ef8-a7c0-4f1a-91a5-63f55cfa48e9",
   "metadata": {},
   "outputs": [
    {
     "name": "stdin",
     "output_type": "stream",
     "text": [
      " 10\n",
      " 9\n"
     ]
    },
    {
     "name": "stdout",
     "output_type": "stream",
     "text": [
      "x = 19\n"
     ]
    }
   ],
   "source": [
    "def cal():\n",
    "    n = int(input())\n",
    "    n2 = int(input())\n",
    "    print ('x =',n + n2)\n",
    "cal()"
   ]
  },
  {
   "cell_type": "code",
   "execution_count": null,
   "id": "25db4846-25bd-4a46-803c-71aadfecf1ef",
   "metadata": {},
   "outputs": [
    {
     "name": "stdout",
     "output_type": "stream",
     "text": [
      "SOMA = 19\n"
     ]
    }
   ],
   "source": [
    "def cal ():\n",
    "    a= int(input())\n",
    "    b=int(input())\n",
    "print('SOMA =',a + b)\n",
    "cal()"
   ]
  },
  {
   "cell_type": "code",
   "execution_count": null,
   "id": "82688799-d863-46b1-8b5d-695df046dee6",
   "metadata": {},
   "outputs": [],
   "source": []
  }
 ],
 "metadata": {
  "kernelspec": {
   "display_name": "Python 3 (ipykernel)",
   "language": "python",
   "name": "python3"
  },
  "language_info": {
   "codemirror_mode": {
    "name": "ipython",
    "version": 3
   },
   "file_extension": ".py",
   "mimetype": "text/x-python",
   "name": "python",
   "nbconvert_exporter": "python",
   "pygments_lexer": "ipython3",
   "version": "3.11.7"
  }
 },
 "nbformat": 4,
 "nbformat_minor": 5
}
