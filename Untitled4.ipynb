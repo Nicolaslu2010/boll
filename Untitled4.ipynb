{
 "cells": [
  {
   "cell_type": "code",
   "execution_count": 13,
   "id": "49720e66-7250-4340-a437-d9e6eb790e86",
   "metadata": {},
   "outputs": [
    {
     "ename": "ImportError",
     "evalue": "cannot import name 'Prova' from 'exame' (C:\\Users\\ctrlp\\Nicolas\\exame.py)",
     "output_type": "error",
     "traceback": [
      "\u001b[1;31m---------------------------------------------------------------------------\u001b[0m",
      "\u001b[1;31mImportError\u001b[0m                               Traceback (most recent call last)",
      "Cell \u001b[1;32mIn[13], line 2\u001b[0m\n\u001b[0;32m      1\u001b[0m \u001b[38;5;28;01mimport\u001b[39;00m \u001b[38;5;21;01munittest\u001b[39;00m\n\u001b[1;32m----> 2\u001b[0m \u001b[38;5;28;01mfrom\u001b[39;00m \u001b[38;5;21;01mexame\u001b[39;00m \u001b[38;5;28;01mimport\u001b[39;00m Prova\n\u001b[0;32m      4\u001b[0m \u001b[38;5;28;01mclass\u001b[39;00m \u001b[38;5;21;01mProvaTest\u001b[39;00m(unittest\u001b[38;5;241m.\u001b[39mTestCase):\n\u001b[0;32m      5\u001b[0m     \u001b[38;5;28;01mdef\u001b[39;00m \u001b[38;5;21mtest_armazenaQuestao\u001b[39m(\u001b[38;5;28mself\u001b[39m):\n",
      "\u001b[1;31mImportError\u001b[0m: cannot import name 'Prova' from 'exame' (C:\\Users\\ctrlp\\Nicolas\\exame.py)"
     ]
    }
   ],
   "source": [
    "import unittest\n",
    "from exame import Prova\n",
    "\n",
    "class ProvaTest(unittest.TestCase):\n",
    "    def test_armazenaQuestao(self):\n",
    "        questao = 'O que aprendem os alunos do curso?'\n",
    "        p = Prova()\n",
    "        p.armazena_Questao_Resposta(questao, '')\n",
    "        self.assertIn('O que aprendem os alunos do curso?', p.questoes)\n",
    "        \n",
    "    def test_armazenaResposta(self):\n",
    "        resposta = 'Programação, robótica e muito mais'\n",
    "        p = prova()\n",
    "        p.armazena_Questao_Resposta('', resposta)\n",
    "        self.assertIn('Programação, robótica e muito mais', p.respostas)\n",
    "\n",
    "unittest.main(argv=[''], exit=False)"
   ]
  },
  {
   "cell_type": "code",
   "execution_count": null,
   "id": "28b5fa91-6ab9-4005-9163-64242fe965eb",
   "metadata": {},
   "outputs": [],
   "source": []
  }
 ],
 "metadata": {
  "kernelspec": {
   "display_name": "Python 3 (ipykernel)",
   "language": "python",
   "name": "python3"
  },
  "language_info": {
   "codemirror_mode": {
    "name": "ipython",
    "version": 3
   },
   "file_extension": ".py",
   "mimetype": "text/x-python",
   "name": "python",
   "nbconvert_exporter": "python",
   "pygments_lexer": "ipython3",
   "version": "3.11.7"
  }
 },
 "nbformat": 4,
 "nbformat_minor": 5
}
